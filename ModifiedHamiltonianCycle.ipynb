{
 "cells": [
  {
   "cell_type": "markdown",
   "metadata": {},
   "source": [
    "# Modified Hamiltonian Cycle"
   ]
  },
  {
   "cell_type": "code",
   "execution_count": 16,
   "metadata": {},
   "outputs": [],
   "source": [
    "import numpy as np\n",
    "import copy\n",
    "from numpy.random import choice\n",
    "\n",
    "def ModifiedHamiltonianCycle(graph):\n",
    "    Failure = False\n",
    "    # Make a copy of the graph. It is the unused-edges list\n",
    "    graphic = copy.deepcopy(graph.graph_dict)\n",
    "    path = []\n",
    "    vertices = graph.vertices()\n",
    "    n = len(vertices)\n",
    "    # Create the used-edges list\n",
    "    used_edges = dict((el,[]) for el in vertices)\n",
    "\n",
    "    # 1. Start with a random vertex as the head of the path.\n",
    "    head = random.sample(vertices,1)\n",
    "    head = head[0]\n",
    "    path.append(head)\n",
    "    \n",
    "    # 2. Repeat the following steps until the rotation edge closes a Hamiltonian            cycle or the unused-edges list of the head of the path is empty:\n",
    "    while True:\n",
    "\n",
    "        # (a) Let the current path be P = v 1 , v 2 , . . . , v k , with v k being                 the head.\n",
    "        m = len(path)\n",
    "        head = path[m-1]\n",
    "        neighbors = graphic[str(head)]\n",
    "        if len(neighbors) > 0:\n",
    "            # (b) Execute i, ii, or iii with probabilities 1/n, |used-edges(v k )|/                  n, and 1 − 1/n − |used-edges(v k )|/n, respectively:\n",
    "            a = 1/n\n",
    "            b = len(used_edges[head])/n\n",
    "            c = 1-a-b\n",
    "            case = choice(['i','ii','iii'], 1,p=[a,b,c])\n",
    "            \n",
    "            #i) Reverse the path, and make v1 the head.\n",
    "            if case == 'i':\n",
    "                new_path = []\n",
    "                for r in range(m - 1, -1 , -1):\n",
    "                    new_path.append(path[r])\n",
    "                path = new_path\n",
    "                head = path[m-1]\n",
    "\n",
    "            #ii) Choose uniformly at random an edge from used-edges(vk); if the                     edge is (vk , vi), rotate the current path with (vk , vi ) and                     set vi+1 to be the head.\n",
    "                #(If the edge is (vk , vk−1 ), then no change is made.)\n",
    "            if case == 'ii':\n",
    "                L = used_edges[head]\n",
    "                node_of_the_edge = random.sample(L,1)\n",
    "                node_of_the_edge = node_of_the_edge[0]\n",
    "                m = len(path)\n",
    "                if path[m-2] != head:\n",
    "                    index = path.index(node_of_the_edge)\n",
    "                    new_path = []\n",
    "                    for k in range(index + 1):\n",
    "                        new_path.append(path[k])\n",
    "                    for r in range(m - 1, index , -1):\n",
    "                        new_path.append(path[r])\n",
    "                    path = new_path\n",
    "                    head = path[m-1]\n",
    "\n",
    "            # iii) As the usua HamiltonianCycle algorithm\n",
    "            if case == 'iii':\n",
    "                new_head = random.sample(neighbors,1)\n",
    "                new_head = new_head[0]\n",
    "                graphic[head].remove(new_head)\n",
    "                graphic[new_head].remove(head)\n",
    "                # update unused-edges\n",
    "                used_edges[head].append(new_head)\n",
    "                used_edges[new_head].append(head)\n",
    "                if new_head not in path:\n",
    "                    path.append(new_head)\n",
    "                    head = new_head\n",
    "                else:\n",
    "                    if (len(path) == n) and (new_head == path[0]):\n",
    "                    # Return the Hamiltonian cyecle\n",
    "                        print('We have Hamiltonian Cycle')\n",
    "                        break\n",
    "                    else:\n",
    "                        #reverse\n",
    "                        m = len(path)\n",
    "                        index = path.index(new_head)\n",
    "                        index\n",
    "                        new_path = []\n",
    "                        for k in range(index + 1):\n",
    "                            new_path.append(path[k])\n",
    "                        for r in range(m - 1, index , -1):\n",
    "                            new_path.append(path[r])\n",
    "                        path = new_path\n",
    "                        head = path[m-1]\n",
    "                        \n",
    "        else:\n",
    "            Failure = True\n",
    "            break\n",
    "    \n",
    "    if Failure is True:\n",
    "        return print('FAILURE')\n",
    "    else:\n",
    "        return path\n",
    "\n"
   ]
  },
  {
   "cell_type": "markdown",
   "metadata": {},
   "source": [
    "## Create a Random Graph"
   ]
  },
  {
   "cell_type": "code",
   "execution_count": 14,
   "metadata": {
    "tags": []
   },
   "outputs": [
    {
     "output_type": "execute_result",
     "data": {
      "text/plain": "{'0': ['11', '2', '14', '12', '4', '3', '8', '5', '1', '10', '13', '7', '16'],\n '1': ['10', '7', '13', '4', '0', '5', '14', '15', '2', '11', '12', '8', '16'],\n '2': ['13', '0', '5', '15', '4', '12', '8', '7', '10', '11', '1'],\n '3': ['7', '9', '10', '0', '8', '11', '12', '13', '6', '15', '4', '14', '5'],\n '4': ['7', '10', '9', '2', '0', '14', '5', '1', '6', '11', '15', '3'],\n '5': ['15', '2', '11', '0', '12', '4', '1', '6', '7', '9', '8', '16', '3'],\n '6': ['15', '11', '14', '4', '7', '5', '12', '3', '9', '16', '8'],\n '7': ['4', '3', '8', '15', '1', '10', '6', '5', '2', '16', '13', '0', '14'],\n '8': ['7', '9', '0', '16', '3', '2', '13', '10', '12', '14', '5', '6', '1'],\n '9': ['12', '3', '8', '13', '14', '4', '15', '11', '10', '6', '5', '16'],\n '10': ['1', '16', '4', '3', '15', '9', '13', '7', '0', '2', '8', '11'],\n '11': ['0', '5', '9', '6', '15', '3', '4', '2', '10', '14', '1', '16'],\n '12': ['9', '14', '0', '2', '5', '16', '6', '3', '8', '1', '15', '13'],\n '13': ['2', '9', '1', '14', '10', '0', '8', '16', '3', '7', '12'],\n '14': ['12', '9', '0', '4', '13', '15', '6', '1', '8', '16', '11', '3', '7'],\n '15': ['5', '6', '7', '9', '2', '10', '14', '11', '16', '4', '3', '1', '12'],\n '16': ['10', '8', '12', '15', '13', '7', '6', '0', '14', '5', '11', '9', '1']}"
     },
     "metadata": {},
     "execution_count": 14
    }
   ],
   "source": [
    "graph = Random_graph(17, 105)\n",
    "graph.graph_dict"
   ]
  },
  {
   "cell_type": "code",
   "execution_count": 17,
   "metadata": {
    "tags": []
   },
   "outputs": [
    {
     "output_type": "stream",
     "name": "stdout",
     "text": "We have Hamiltonian Cycle\n"
    },
    {
     "output_type": "execute_result",
     "data": {
      "text/plain": "['0',\n '16',\n '6',\n '4',\n '5',\n '7',\n '2',\n '8',\n '12',\n '15',\n '10',\n '13',\n '3',\n '14',\n '9',\n '11',\n '1']"
     },
     "metadata": {},
     "execution_count": 17
    }
   ],
   "source": [
    "ModifiedHamiltonianCycle(graph)"
   ]
  }
 ],
 "metadata": {
  "language_info": {
   "codemirror_mode": {
    "name": "ipython",
    "version": 2
   },
   "file_extension": ".py",
   "mimetype": "text/x-python",
   "name": "python",
   "nbconvert_exporter": "python",
   "pygments_lexer": "ipython2",
   "version": "3.7.7-final"
  },
  "orig_nbformat": 2,
  "kernelspec": {
   "name": "python37764bitpytorchenvconda871555cf05a649bcbe938c6eeed2d7c5",
   "display_name": "Python 3.7.7 64-bit ('PytorchEnv': conda)"
  }
 },
 "nbformat": 4,
 "nbformat_minor": 2
}